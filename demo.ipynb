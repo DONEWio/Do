{
 "cells": [
  {
   "cell_type": "code",
   "execution_count": 1,
   "metadata": {},
   "outputs": [],
   "source": [
    "from dotenv import load_dotenv\n",
    "load_dotenv()\n",
    "\n",
    "import os\n",
    "chrome_path = os.getenv(\"CHROME_PATH\")\n",
    "user_data_dir = os.getenv(\"USER_DATA_DIR\")\n",
    "profile=os.getenv(\"CHROME_PROFILE\")\n",
    "args = [\"--profile-directory=\" + profile]\n"
   ]
  },
  {
   "cell_type": "code",
   "execution_count": 2,
   "metadata": {},
   "outputs": [
    {
     "name": "stderr",
     "output_type": "stream",
     "text": [
      "/Users/kenandeniz/Projects/donew/do/.venv/lib/python3.11/site-packages/tqdm/auto.py:21: TqdmWarning: IProgress not found. Please update jupyter and ipywidgets. See https://ipywidgets.readthedocs.io/en/stable/user_install.html\n",
      "  from .autonotebook import tqdm as notebook_tqdm\n",
      "/Users/kenandeniz/Projects/donew/do/src/donew/see/processors/web.py:114: UserWarning: Running in headed mode may cause navigation errors with HTTP error responses (like 404, 501) due to a known Chromium bug. See: https://github.com/microsoft/playwright/issues/33962\n",
      "  warnings.warn(\n"
     ]
    }
   ],
   "source": [
    "from donew import DO\n",
    "\n",
    "DO.Config(chrome_path=chrome_path, user_data_dir=user_data_dir, channel=\"chrome\",args=args, headless=False)\n",
    "browser = await DO.A_browse(\"https://docs.google.com\")"
   ]
  },
  {
   "cell_type": "code",
   "execution_count": 5,
   "metadata": {},
   "outputs": [],
   "source": [
    "await browser.a_toggle_annotation(True)"
   ]
  },
  {
   "cell_type": "code",
   "execution_count": 4,
   "metadata": {},
   "outputs": [],
   "source": [
    "elements = browser.elements()"
   ]
  },
  {
   "cell_type": "code",
   "execution_count": null,
   "metadata": {},
   "outputs": [],
   "source": []
  }
 ],
 "metadata": {
  "kernelspec": {
   "display_name": ".venv",
   "language": "python",
   "name": "python3"
  },
  "language_info": {
   "codemirror_mode": {
    "name": "ipython",
    "version": 3
   },
   "file_extension": ".py",
   "mimetype": "text/x-python",
   "name": "python",
   "nbconvert_exporter": "python",
   "pygments_lexer": "ipython3",
   "version": "3.11.3"
  }
 },
 "nbformat": 4,
 "nbformat_minor": 2
}
