{
 "cells": [
  {
   "cell_type": "markdown",
   "metadata": {},
   "source": [
    "# ⚠️ Important Security Warning\n",
    "\n",
    "Using your personal Chrome profile with automation tools poses significant security risks:\n",
    "\n",
    "\n",
    "- Your personal browsing data, passwords, and cookies could be exposed\n",
    "- Malicious code or prompts could access sensitive information\n",
    "- Automated actions could affect your accounts and saved data\n",
    "\n",
    "## Recommendations:\n",
    "\n",
    "1. **Only use with local LLMs** - Never expose your personal Chrome profile to remote or cloud-based LLMs\n",
    "2. **Create a separate Chrome profile** - Use a clean profile specifically for automation\n",
    "3. **Monitor all automated actions** - Always supervise browser automation, especially with personal profiles\n",
    "4. **Review code carefully** - Understand exactly what automation code will do before running it\n",
    "\n",
    "**Proceed with extreme caution when using personal Chrome profiles for automation.**\n"
   ]
  },
  {
   "cell_type": "code",
   "execution_count": 1,
   "metadata": {},
   "outputs": [],
   "source": [
    "from dotenv import load_dotenv\n",
    "load_dotenv()\n",
    "\n",
    "import os\n",
    "chrome_path = os.getenv(\"CHROME_PATH\")\n",
    "user_data_dir = os.getenv(\"USER_DATA_DIR\")\n",
    "profile=os.getenv(\"CHROME_PROFILE\")\n",
    "args = [\"--profile-directory=\" + profile]\n"
   ]
  },
  {
   "cell_type": "code",
   "execution_count": null,
   "metadata": {},
   "outputs": [],
   "source": [
    "from donew import DO\n",
    "browser = await DO.A_browse(chrome_path=chrome_path, user_data_dir=user_data_dir, channel=\"chrome\",args=args, headless=False)"
   ]
  },
  {
   "cell_type": "code",
   "execution_count": null,
   "metadata": {},
   "outputs": [],
   "source": [
    "await browser.a_goto(\"https://donew.io\")"
   ]
  },
  {
   "cell_type": "code",
   "execution_count": null,
   "metadata": {},
   "outputs": [],
   "source": [
    "await browser.a_annotation(False)"
   ]
  },
  {
   "cell_type": "code",
   "execution_count": 4,
   "metadata": {},
   "outputs": [],
   "source": [
    "await browser.a_annotation(True)\n"
   ]
  },
  {
   "cell_type": "code",
   "execution_count": 5,
   "metadata": {},
   "outputs": [],
   "source": [
    "await browser.a_click(978)"
   ]
  }
 ],
 "metadata": {
  "kernelspec": {
   "display_name": ".venv",
   "language": "python",
   "name": "python3"
  },
  "language_info": {
   "codemirror_mode": {
    "name": "ipython",
    "version": 3
   },
   "file_extension": ".py",
   "mimetype": "text/x-python",
   "name": "python",
   "nbconvert_exporter": "python",
   "pygments_lexer": "ipython3",
   "version": "3.11.3"
  }
 },
 "nbformat": 4,
 "nbformat_minor": 2
}
